{
 "cells": [
  {
   "cell_type": "markdown",
   "metadata": {},
   "source": [
    "# Python Boolean Indexing"
   ]
  },
  {
   "cell_type": "markdown",
   "metadata": {},
   "source": [
    "## Python boolean Indexing"
   ]
  },
  {
   "cell_type": "markdown",
   "metadata": {},
   "source": [
    "* Reference: https://nittaku.tistory.com/107\n",
    "* 본 Tutorial은 조재성님의 블로그를 참조하였습니다.\n",
    "* Boolean Indexing에 대한 공부의 필요성을 느껴 참고자료를 통해 직접 학습하려 합니다."
   ]
  },
  {
   "cell_type": "markdown",
   "metadata": {},
   "source": [
    "* array 인덱싱 이외에 불리언 indexing도 중요하다."
   ]
  },
  {
   "cell_type": "code",
   "execution_count": 10,
   "metadata": {},
   "outputs": [],
   "source": [
    "# example\n",
    "\n",
    "import numpy as np\n",
    "\n",
    "names = np.array([\"Charles\", \"Kilho\", \"Hayoung\", \"Charles\", \"Hayoung\", \"Kilho\", \"Kilho\"])\n",
    "data = np.random.randn(7, 4)"
   ]
  },
  {
   "cell_type": "code",
   "execution_count": 11,
   "metadata": {},
   "outputs": [
    {
     "data": {
      "text/plain": [
       "array(['Charles', 'Kilho', 'Hayoung', 'Charles', 'Hayoung', 'Kilho',\n",
       "       'Kilho'], dtype='<U7')"
      ]
     },
     "execution_count": 11,
     "metadata": {},
     "output_type": "execute_result"
    }
   ],
   "source": [
    "names"
   ]
  },
  {
   "cell_type": "code",
   "execution_count": 12,
   "metadata": {},
   "outputs": [
    {
     "data": {
      "text/plain": [
       "7"
      ]
     },
     "execution_count": 12,
     "metadata": {},
     "output_type": "execute_result"
    }
   ],
   "source": [
    "len(names)"
   ]
  },
  {
   "cell_type": "code",
   "execution_count": 13,
   "metadata": {},
   "outputs": [
    {
     "data": {
      "text/plain": [
       "array([[ 0.63886691,  0.97377624,  0.69806807, -2.20506913],\n",
       "       [ 1.26421069, -0.81441218, -2.02544156, -0.02337837],\n",
       "       [ 1.81049547, -0.72909482,  0.62097151, -0.4162807 ],\n",
       "       [-0.15335216, -1.6096065 ,  0.61708601,  0.30841767],\n",
       "       [ 0.17138512, -1.34571827,  0.8919128 ,  0.70881683],\n",
       "       [ 0.28532761, -0.48293868,  0.66472176,  1.3284613 ],\n",
       "       [-0.09997227,  0.92427001,  1.03147574,  1.52069416]])"
      ]
     },
     "execution_count": 13,
     "metadata": {},
     "output_type": "execute_result"
    }
   ],
   "source": [
    "data"
   ]
  },
  {
   "cell_type": "markdown",
   "metadata": {},
   "source": [
    "* 각 names의 성분(7개의 열)이 data의 각 행에 대응된다고 생각해보자"
   ]
  },
  {
   "cell_type": "code",
   "execution_count": 19,
   "metadata": {},
   "outputs": [
    {
     "data": {
      "text/plain": [
       "array([ True, False, False,  True, False, False, False])"
      ]
     },
     "execution_count": 19,
     "metadata": {},
     "output_type": "execute_result"
    }
   ],
   "source": [
    "names == \"Charles\"  # numpy array names에서 이름이 Charles와 동일한 원소는 True\n",
    "                    # 이름이 Charles와 다른 원소는 False인 array를 반환한다."
   ]
  },
  {
   "cell_type": "markdown",
   "metadata": {},
   "source": [
    "names == \"Charles\" 결과 생성된 array는 원래 성분이 7개인 names와 성분의 개수가 동일하다<br/>\n",
    "주목할 점은 True나 False로만 이루어진 array라는 점이다."
   ]
  },
  {
   "cell_type": "markdown",
   "metadata": {},
   "source": [
    "* array에 조건문에 사용되는 [==]를  names의 성분에 대응하여 값이 \"Charles\"인 것과 동일한 것만 True, 다른 것은 False로 성분이 구성된 array를 반환한다.\n",
    "* 이것이 바로 boolean array 또는 boolean mask라고 한다."
   ]
  },
  {
   "cell_type": "markdown",
   "metadata": {},
   "source": [
    "* 이러한 boolean mask는 다른 array의 행 또는 열의 인덱스에 집어넣어 인덱싱하는데 사용할 수 있다."
   ]
  },
  {
   "cell_type": "code",
   "execution_count": 20,
   "metadata": {},
   "outputs": [
    {
     "data": {
      "text/plain": [
       "array([[ 0.63886691,  0.97377624,  0.69806807, -2.20506913],\n",
       "       [-0.15335216, -1.6096065 ,  0.61708601,  0.30841767]])"
      ]
     },
     "execution_count": 20,
     "metadata": {},
     "output_type": "execute_result"
    }
   ],
   "source": [
    "data[names == \"Charles\"]"
   ]
  },
  {
   "cell_type": "code",
   "execution_count": 18,
   "metadata": {},
   "outputs": [
    {
     "data": {
      "text/plain": [
       "array([[ 0.63886691,  0.97377624,  0.69806807, -2.20506913],\n",
       "       [-0.15335216, -1.6096065 ,  0.61708601,  0.30841767]])"
      ]
     },
     "execution_count": 18,
     "metadata": {},
     "output_type": "execute_result"
    }
   ],
   "source": [
    "data[np.array([True, False, False, True, False, False, False])]"
   ]
  },
  {
   "cell_type": "code",
   "execution_count": 16,
   "metadata": {},
   "outputs": [
    {
     "data": {
      "text/plain": [
       "array([[ 1.26421069, -0.81441218, -2.02544156, -0.02337837],\n",
       "       [ 0.28532761, -0.48293868,  0.66472176,  1.3284613 ],\n",
       "       [-0.09997227,  0.92427001,  1.03147574,  1.52069416]])"
      ]
     },
     "execution_count": 16,
     "metadata": {},
     "output_type": "execute_result"
    }
   ],
   "source": [
    "data[names == \"Kilho\", :]"
   ]
  },
  {
   "cell_type": "markdown",
   "metadata": {},
   "source": [
    "Q. 하영(Hayoung)의 데이터가 궁금하다면?"
   ]
  },
  {
   "cell_type": "code",
   "execution_count": 27,
   "metadata": {},
   "outputs": [
    {
     "data": {
      "text/plain": [
       "array([[ 1.81049547, -0.72909482,  0.62097151, -0.4162807 ],\n",
       "       [ 0.17138512, -1.34571827,  0.8919128 ,  0.70881683]])"
      ]
     },
     "execution_count": 27,
     "metadata": {},
     "output_type": "execute_result"
    }
   ],
   "source": [
    "data[names == \"Hayoung\"]"
   ]
  },
  {
   "cell_type": "markdown",
   "metadata": {},
   "source": [
    "#### 행 index에서 뽑아낼 마스크를 2개로 줄 수도 있다."
   ]
  },
  {
   "cell_type": "code",
   "execution_count": 32,
   "metadata": {},
   "outputs": [
    {
     "data": {
      "text/plain": [
       "array([[ 0.63886691,  0.97377624,  0.69806807, -2.20506913],\n",
       "       [ 1.81049547, -0.72909482,  0.62097151, -0.4162807 ],\n",
       "       [-0.15335216, -1.6096065 ,  0.61708601,  0.30841767],\n",
       "       [ 0.17138512, -1.34571827,  0.8919128 ,  0.70881683]])"
      ]
     },
     "execution_count": 32,
     "metadata": {},
     "output_type": "execute_result"
    }
   ],
   "source": [
    "data[ (names == \"Charles\") | (names == \"Hayoung\"), : ]"
   ]
  },
  {
   "cell_type": "markdown",
   "metadata": {},
   "source": [
    "#### 기존의 데이터 array 성분에 조건문을 달아 boolean indexing 즉, 마스크를 만들 수 있다."
   ]
  },
  {
   "cell_type": "code",
   "execution_count": 33,
   "metadata": {},
   "outputs": [
    {
     "data": {
      "text/plain": [
       "array([-2.20506913, -0.02337837, -0.4162807 ,  0.30841767,  0.70881683,\n",
       "        1.3284613 ,  1.52069416])"
      ]
     },
     "execution_count": 33,
     "metadata": {},
     "output_type": "execute_result"
    }
   ],
   "source": [
    "data[:, 3]"
   ]
  },
  {
   "cell_type": "code",
   "execution_count": 36,
   "metadata": {},
   "outputs": [
    {
     "data": {
      "text/plain": [
       "array([ True,  True,  True, False, False, False, False])"
      ]
     },
     "execution_count": 36,
     "metadata": {},
     "output_type": "execute_result"
    }
   ],
   "source": [
    "data[:, 3] < 0 "
   ]
  },
  {
   "cell_type": "code",
   "execution_count": 37,
   "metadata": {},
   "outputs": [
    {
     "data": {
      "text/plain": [
       "array([[ 0.63886691,  0.97377624,  0.69806807, -2.20506913],\n",
       "       [ 1.26421069, -0.81441218, -2.02544156, -0.02337837],\n",
       "       [ 1.81049547, -0.72909482,  0.62097151, -0.4162807 ]])"
      ]
     },
     "execution_count": 37,
     "metadata": {},
     "output_type": "execute_result"
    }
   ],
   "source": [
    "data[data[:, 3] < 0]"
   ]
  },
  {
   "cell_type": "markdown",
   "metadata": {},
   "source": [
    "* 추출과 동시에 행에 0을 대입해 줄 수도 있다."
   ]
  },
  {
   "cell_type": "code",
   "execution_count": 38,
   "metadata": {},
   "outputs": [],
   "source": [
    "data[data[:, 3] < 0] = 0"
   ]
  },
  {
   "cell_type": "code",
   "execution_count": 39,
   "metadata": {},
   "outputs": [
    {
     "data": {
      "text/plain": [
       "array([[ 0.        ,  0.        ,  0.        ,  0.        ],\n",
       "       [ 0.        ,  0.        ,  0.        ,  0.        ],\n",
       "       [ 0.        ,  0.        ,  0.        ,  0.        ],\n",
       "       [-0.15335216, -1.6096065 ,  0.61708601,  0.30841767],\n",
       "       [ 0.17138512, -1.34571827,  0.8919128 ,  0.70881683],\n",
       "       [ 0.28532761, -0.48293868,  0.66472176,  1.3284613 ],\n",
       "       [-0.09997227,  0.92427001,  1.03147574,  1.52069416]])"
      ]
     },
     "execution_count": 39,
     "metadata": {},
     "output_type": "execute_result"
    }
   ],
   "source": [
    "data"
   ]
  },
  {
   "cell_type": "code",
   "execution_count": null,
   "metadata": {},
   "outputs": [],
   "source": []
  }
 ],
 "metadata": {
  "kernelspec": {
   "display_name": "Python 3",
   "language": "python",
   "name": "python3"
  },
  "language_info": {
   "codemirror_mode": {
    "name": "ipython",
    "version": 3
   },
   "file_extension": ".py",
   "mimetype": "text/x-python",
   "name": "python",
   "nbconvert_exporter": "python",
   "pygments_lexer": "ipython3",
   "version": "3.7.6"
  }
 },
 "nbformat": 4,
 "nbformat_minor": 4
}
